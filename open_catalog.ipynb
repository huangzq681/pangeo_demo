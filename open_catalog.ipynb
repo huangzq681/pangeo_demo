{
  "nbformat": 4,
  "nbformat_minor": 0,
  "metadata": {
    "colab": {
      "provenance": [],
      "authorship_tag": "ABX9TyO9Tqp1yos+3BUEsZ0o60XT",
      "include_colab_link": true
    },
    "kernelspec": {
      "name": "python3",
      "display_name": "Python 3"
    },
    "language_info": {
      "name": "python"
    }
  },
  "cells": [
    {
      "cell_type": "markdown",
      "metadata": {
        "id": "view-in-github",
        "colab_type": "text"
      },
      "source": [
        "<a href=\"https://colab.research.google.com/github/huangzq681/pangeo_demo/blob/main/open_catalog.ipynb\" target=\"_parent\"><img src=\"https://colab.research.google.com/assets/colab-badge.svg\" alt=\"Open In Colab\"/></a>"
      ]
    },
    {
      "cell_type": "code",
      "source": [
        "!pip install intake"
      ],
      "metadata": {
        "colab": {
          "base_uri": "https://localhost:8080/"
        },
        "id": "oMBIbgrNgbz9",
        "outputId": "aee93399-2182-4dbe-f959-c9c5b2baafd6"
      },
      "execution_count": 1,
      "outputs": [
        {
          "output_type": "stream",
          "name": "stdout",
          "text": [
            "Looking in indexes: https://pypi.org/simple, https://us-python.pkg.dev/colab-wheels/public/simple/\n",
            "Collecting intake\n",
            "  Downloading intake-0.6.7-py3-none-any.whl (228 kB)\n",
            "\u001b[2K     \u001b[90m━━━━━━━━━━━━━━━━━━━━━━━━━━━━━━━━━━━━━━━\u001b[0m \u001b[32m228.9/228.9 KB\u001b[0m \u001b[31m2.8 MB/s\u001b[0m eta \u001b[36m0:00:00\u001b[0m\n",
            "\u001b[?25hRequirement already satisfied: fsspec>=2021.7.0 in /usr/local/lib/python3.8/dist-packages (from intake) (2023.1.0)\n",
            "Requirement already satisfied: msgpack in /usr/local/lib/python3.8/dist-packages (from intake) (1.0.4)\n",
            "Requirement already satisfied: appdirs in /usr/local/lib/python3.8/dist-packages (from intake) (1.4.4)\n",
            "Requirement already satisfied: pyyaml in /usr/local/lib/python3.8/dist-packages (from intake) (6.0)\n",
            "Requirement already satisfied: jinja2 in /usr/local/lib/python3.8/dist-packages (from intake) (2.11.3)\n",
            "Requirement already satisfied: dask in /usr/local/lib/python3.8/dist-packages (from intake) (2022.2.1)\n",
            "Requirement already satisfied: entrypoints in /usr/local/lib/python3.8/dist-packages (from intake) (0.4)\n",
            "Requirement already satisfied: cloudpickle>=1.1.1 in /usr/local/lib/python3.8/dist-packages (from dask->intake) (2.2.1)\n",
            "Requirement already satisfied: toolz>=0.8.2 in /usr/local/lib/python3.8/dist-packages (from dask->intake) (0.12.0)\n",
            "Requirement already satisfied: partd>=0.3.10 in /usr/local/lib/python3.8/dist-packages (from dask->intake) (1.3.0)\n",
            "Requirement already satisfied: packaging>=20.0 in /usr/local/lib/python3.8/dist-packages (from dask->intake) (23.0)\n",
            "Requirement already satisfied: MarkupSafe>=0.23 in /usr/local/lib/python3.8/dist-packages (from jinja2->intake) (2.0.1)\n",
            "Requirement already satisfied: locket in /usr/local/lib/python3.8/dist-packages (from partd>=0.3.10->dask->intake) (1.0.0)\n",
            "Installing collected packages: intake\n",
            "Successfully installed intake-0.6.7\n"
          ]
        }
      ]
    },
    {
      "cell_type": "code",
      "execution_count": 2,
      "metadata": {
        "colab": {
          "base_uri": "https://localhost:8080/"
        },
        "id": "uIW8uWWQdtfu",
        "outputId": "f6c33fe4-5c1f-4122-c702-b5da3140e122"
      },
      "outputs": [
        {
          "output_type": "execute_result",
          "data": {
            "text/plain": [
              "['ocean', 'atmosphere', 'climate', 'hydro']"
            ]
          },
          "metadata": {},
          "execution_count": 2
        }
      ],
      "source": [
        "from intake import open_catalog\n",
        "\n",
        "cat = open_catalog(\"https://raw.githubusercontent.com/pangeo-data/pangeo-datastore/master/intake-catalogs/master.yaml\")\n",
        "list(cat)"
      ]
    },
    {
      "cell_type": "code",
      "source": [
        "cat = open_catalog(\"https://raw.githubusercontent.com/pangeo-data/pangeo-datastore/master/intake-catalogs/hydro.yaml\")\n",
        "list(cat)"
      ],
      "metadata": {
        "colab": {
          "base_uri": "https://localhost:8080/"
        },
        "id": "4pWMK-VsgdTM",
        "outputId": "4665d30a-2b48-4832-d030-664e20104711"
      },
      "execution_count": 3,
      "outputs": [
        {
          "output_type": "execute_result",
          "data": {
            "text/plain": [
              "['cgiar_pet',\n",
              " 'hydrosheds_dir',\n",
              " 'hydrosheds_acc',\n",
              " 'hydrosheds_dem',\n",
              " 'soil_grids_single_level',\n",
              " 'soil_grids_multi_level',\n",
              " 'camels',\n",
              " 'nhd_catchment_attributes',\n",
              " 'nldas_hru_forcing',\n",
              " 'usgs_streamflow_observations']"
            ]
          },
          "metadata": {},
          "execution_count": 3
        }
      ]
    },
    {
      "cell_type": "code",
      "source": [
        "cat = open_catalog(\"https://raw.githubusercontent.com/pangeo-data/pangeo-datastore/master/intake-catalogs/climate.yaml\")\n",
        "list(cat)"
      ],
      "metadata": {
        "colab": {
          "base_uri": "https://localhost:8080/"
        },
        "id": "LAbeLvu7jlgK",
        "outputId": "c12e9176-a0bd-44bd-d593-d7ed1c28b67c"
      },
      "execution_count": 4,
      "outputs": [
        {
          "output_type": "execute_result",
          "data": {
            "text/plain": [
              "['cmip6_gcs',\n",
              " 'cmip6_s3',\n",
              " 'GFDL_CM2_6',\n",
              " 'GFDL_CM2_6_s3',\n",
              " 'tracmip',\n",
              " 'tracmip_s3']"
            ]
          },
          "metadata": {},
          "execution_count": 4
        }
      ]
    },
    {
      "cell_type": "code",
      "source": [
        "cat"
      ],
      "metadata": {
        "colab": {
          "base_uri": "https://localhost:8080/",
          "height": 121
        },
        "id": "g1fpkcaOpEgb",
        "outputId": "ef6a7e13-cf43-4bdb-cfc1-3022c6e48068"
      },
      "execution_count": 15,
      "outputs": [
        {
          "output_type": "display_data",
          "data": {
            "application/yaml": "climate:\n  args:\n    path: https://raw.githubusercontent.com/pangeo-data/pangeo-datastore/master/intake-catalogs/climate.yaml\n  description: ''\n  driver: intake.catalog.local.YAMLFileCatalog\n  metadata: {}\n",
            "text/plain": [
              "climate:\n",
              "  args:\n",
              "    path: https://raw.githubusercontent.com/pangeo-data/pangeo-datastore/master/intake-catalogs/climate.yaml\n",
              "  description: ''\n",
              "  driver: intake.catalog.local.YAMLFileCatalog\n",
              "  metadata: {}\n"
            ]
          },
          "metadata": {
            "application/json": {
              "root": "climate"
            }
          }
        }
      ]
    },
    {
      "cell_type": "code",
      "source": [],
      "metadata": {
        "id": "74aKyQaRqKxo"
      },
      "execution_count": null,
      "outputs": []
    }
  ]
}